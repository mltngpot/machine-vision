{
 "cells": [
  {
   "cell_type": "code",
   "execution_count": 1,
   "id": "8406022d-338a-4ce4-ab75-203d206c28a1",
   "metadata": {},
   "outputs": [
    {
     "name": "stdout",
     "output_type": "stream",
     "text": [
      "YOLOv8x summary (fused): 268 layers, 68,200,608 parameters, 0 gradients, 257.8 GFLOPs\n"
     ]
    }
   ],
   "source": [
    "# import YOLO and create model\n",
    "from ultralytics import YOLO\n",
    "import supervision as sv\n",
    "import numpy as np\n",
    "\n",
    "MODEL = 'yolov8x.pt'\n",
    "\n",
    "model = YOLO(MODEL)\n",
    "model.fuse()"
   ]
  },
  {
   "cell_type": "code",
   "execution_count": 2,
   "id": "80d9def8-27e6-4b49-8b7d-79dbf70c59fe",
   "metadata": {},
   "outputs": [
    {
     "data": {
      "text/plain": [
       "VideoInfo(width=1920, height=1080, fps=29, total_frames=894)"
      ]
     },
     "execution_count": 2,
     "metadata": {},
     "output_type": "execute_result"
    }
   ],
   "source": [
    "# Configuration\n",
    "CAMERA_ID = \"I94-US20-35\"\n",
    "#CAMERA_ID =  I65-53-1\n",
    "#CAMERA_ID =  I65-53-2\n",
    "VIDEO_ID = 4 # 1 - 4\n",
    "\n",
    "# settings for counting line\n",
    "# I94-US20-35\n",
    "LINE_START = sv.Point(350, 1000)\n",
    "LINE_END = sv.Point(1400, 600)\n",
    "# I65-53-1\n",
    "#LINE_START = sv.Point(350, 1000)\n",
    "#LINE_END = sv.Point(1400, 600)\n",
    "# I65-53-1\n",
    "#LINE_START = sv.Point(350, 1000)\n",
    "#LINE_END = sv.Point(1400, 600)\n",
    "\n",
    "SOURCE_VIDEO_PATH = f\"../data/{CAMERA_ID}.{VIDEO_ID}.mp4\"\n",
    "TARGET_VIDEO_PATH = f'../demo/results.{CAMERA_ID}.{VIDEO_ID}.mp4'\n",
    "\n",
    "# dict mapping class_id to class_name\n",
    "CLASS_NAMES_DICT = model.model.names\n",
    "\n",
    "# class_ids of interest : car, motorcycle, and truck\n",
    "selected_classes = [2, 3, 7]\n",
    "\n",
    "# get video info\n",
    "sv.VideoInfo.from_video_path(SOURCE_VIDEO_PATH)"
   ]
  },
  {
   "cell_type": "code",
   "execution_count": 3,
   "id": "97e15283-9ec2-4ff1-8568-5edec7ade1f9",
   "metadata": {},
   "outputs": [],
   "source": [
    "# Matt"
   ]
  },
  {
   "cell_type": "code",
   "execution_count": 4,
   "id": "50ce78b9-4d61-447c-b5a3-4a8332d16370",
   "metadata": {},
   "outputs": [],
   "source": [
    "# Travis"
   ]
  },
  {
   "cell_type": "code",
   "execution_count": 5,
   "id": "2e4e7c3d-47af-4bf0-a21e-c26af7decf8c",
   "metadata": {},
   "outputs": [],
   "source": [
    "# Yash"
   ]
  },
  {
   "cell_type": "code",
   "execution_count": 6,
   "id": "472cae38-09df-45da-b414-eaa5edfcb4cd",
   "metadata": {},
   "outputs": [],
   "source": [
    "# Rui"
   ]
  },
  {
   "cell_type": "code",
   "execution_count": 7,
   "id": "efe17a04-58df-40fe-8028-221fd251fc41",
   "metadata": {},
   "outputs": [],
   "source": [
    "# Tao"
   ]
  },
  {
   "cell_type": "code",
   "execution_count": 8,
   "id": "769ad72c-a586-4fe8-a229-3adb113cd8a3",
   "metadata": {},
   "outputs": [],
   "source": [
    "# This is where all the frame processing happens and is looped through\n",
    "\n",
    "# Call back to process each frame\n",
    "def callback(frame: np.ndarray, index: int) -> np.ndarray:\n",
    "    #Wow, not much to do here really except add on what we need and save a file that lists the results, ie, #5 red truck in or something\n",
    "        # model prediction on single frame and conversion to supervision Detections\n",
    "    results = model(frame, verbose=False)[0]\n",
    "    detections = sv.Detections.from_ultralytics(results)\n",
    "    # only consider class id from selected_classes define above\n",
    "    detections = detections[np.isin(detections.class_id, selected_classes)]\n",
    "    # tracking detections\n",
    "    detections = byte_tracker.update_with_detections(detections)\n",
    "    labels = [\n",
    "        f\"#{tracker_id} {model.model.names[class_id]} {confidence:0.2f}\"\n",
    "        for confidence, class_id, tracker_id\n",
    "        in zip(detections.confidence, detections.class_id, detections.tracker_id)\n",
    "    ]\n",
    "    annotated_frame = trace_annotator.annotate(\n",
    "        scene=frame.copy(),\n",
    "        detections=detections\n",
    "    )\n",
    "    annotated_frame=label_annotator.annotate(\n",
    "        scene=annotated_frame,\n",
    "        detections=detections,\n",
    "        labels=labels)\n",
    "\n",
    "    # update line counter\n",
    "    line_zone.trigger(detections)\n",
    "    # return frame with box and line annotated result\n",
    "    return  line_zone_annotator.annotate(annotated_frame, line_counter=line_zone)"
   ]
  },
  {
   "cell_type": "code",
   "execution_count": 9,
   "id": "51a1cafd-5bdd-4b57-985c-f8cac1ddf4c4",
   "metadata": {},
   "outputs": [],
   "source": [
    "# Initialization of objects used\n",
    "\n",
    "\n",
    "# create bytetracker instance\n",
    "# defaults track_thresh=0.25, track_buffer=30, match_thresh=0.8, frame_rate=30)\n",
    "byte_tracker = sv.ByteTrack()\n",
    "\n",
    "# create videoInfo instance\n",
    "video_info = sv.VideoInfo.from_video_path(SOURCE_VIDEO_PATH)\n",
    "\n",
    "# create frame generator\n",
    "generator = sv.get_video_frames_generator(SOURCE_VIDEO_PATH)\n",
    "\n",
    "# create LineZone instance\n",
    "line_zone = sv.LineZone(start=LINE_START, end=LINE_END)\n",
    "\n",
    "# create instance of BoxAnnotator\n",
    "label_annotator = sv.LabelAnnotator(text_position=sv.Position.TOP_CENTER)\n",
    "\n",
    "# create instance of TraceAnnotator\n",
    "trace_annotator = sv.TraceAnnotator(trace_length=50)\n",
    "\n",
    "# create LineZoneAnnotator instance\n",
    "line_zone_annotator = sv.LineZoneAnnotator()"
   ]
  },
  {
   "cell_type": "code",
   "execution_count": null,
   "id": "74c10057-621a-4cad-b772-be5016f3699c",
   "metadata": {},
   "outputs": [],
   "source": [
    "# Run Me Traffic\n",
    "\n",
    "    \n",
    "sv.process_video(\n",
    "    source_path = SOURCE_VIDEO_PATH,\n",
    "    target_path = TARGET_VIDEO_PATH,\n",
    "    callback=callback\n",
    ")"
   ]
  },
  {
   "cell_type": "code",
   "execution_count": null,
   "id": "e73fdf74-f62c-43a5-b72c-20cc7b2e2559",
   "metadata": {},
   "outputs": [],
   "source": []
  }
 ],
 "metadata": {
  "kernelspec": {
   "display_name": "Python 3 (ipykernel)",
   "language": "python",
   "name": "python3"
  },
  "language_info": {
   "codemirror_mode": {
    "name": "ipython",
    "version": 3
   },
   "file_extension": ".py",
   "mimetype": "text/x-python",
   "name": "python",
   "nbconvert_exporter": "python",
   "pygments_lexer": "ipython3",
   "version": "3.12.4"
  }
 },
 "nbformat": 4,
 "nbformat_minor": 5
}
